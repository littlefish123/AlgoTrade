{
 "cells": [
  {
   "cell_type": "code",
   "execution_count": 6,
   "id": "58b10494-e396-48ce-b1a7-34674af3c308",
   "metadata": {},
   "outputs": [
    {
     "name": "stdout",
     "output_type": "stream",
     "text": [
      "Annualized Historical Volatility: 0.2796 or 27.96%\n"
     ]
    }
   ],
   "source": [
    "# calculate Historial volatility\n",
    "import numpy as np\n",
    "\n",
    "prices = np.array([100, 101, 102, 101, 103, 105,103,102,100,101,99,100,103,100,101])  # Example data\n",
    "returns = np.log(prices[1:] / prices[:-1])\n",
    "daily_vol = np.std(returns)\n",
    "annual_vol = daily_vol * np.sqrt(252)\n",
    "print(f\"Annualized Historical Volatility: {annual_vol:.4f} or {annual_vol*100:.2f}%\")"
   ]
  },
  {
   "cell_type": "code",
   "execution_count": 7,
   "id": "8eb77d0d-ea8c-4c40-900a-dcbd046fc6c5",
   "metadata": {},
   "outputs": [],
   "source": [
    "# calculate implied volaility\n",
    "import numpy as np\n",
    "from scipy.stats import norm\n",
    "from scipy.optimize import brentq"
   ]
  },
  {
   "cell_type": "code",
   "execution_count": 8,
   "id": "0a3abdef-73fd-4bc6-bd26-04e73e2e7611",
   "metadata": {},
   "outputs": [],
   "source": [
    "def black_scholes_call(S, K, T, r, sigma):\n",
    "    d1 = (np.log(S / K) + (r + sigma**2 / 2) * T) / (sigma * np.sqrt(T))\n",
    "    d2 = d1 - sigma * np.sqrt(T)\n",
    "    call_price = S * norm.cdf(d1) - K * np.exp(-r * T) * norm.cdf(d2)\n",
    "    return call_price"
   ]
  },
  {
   "cell_type": "code",
   "execution_count": 9,
   "id": "e9d64b93-7e78-48c4-ba5e-f14bc99f12c4",
   "metadata": {},
   "outputs": [],
   "source": [
    "def implied_vol(S, K, T, r, market_price):\n",
    "    def objective(sigma):\n",
    "        return black_scholes_call(S, K, T, r, sigma) - market_price\n",
    "    return brentq(objective, 0.001, 2.0)  # Solve between 0.1% and 200%\n"
   ]
  },
  {
   "cell_type": "code",
   "execution_count": 12,
   "id": "ffd152ec-941a-4912-9257-f665b159220e",
   "metadata": {},
   "outputs": [
    {
     "name": "stdout",
     "output_type": "stream",
     "text": [
      "Implied Volatility: 0.3213 or 32.13%\n"
     ]
    }
   ],
   "source": [
    "# Example:\n",
    "S = 100      # Stock price\n",
    "K = 105      # Strike price\n",
    "T = 0.5      # 6 months to expiry\n",
    "r = 0.05     # 5% risk-free rate\n",
    "market_price = 8.0  # Observed call price\n",
    "\n",
    "iv = implied_vol(S, K, T, r, market_price)\n",
    "print(f\"Implied Volatility: {iv:.4f} or {iv*100:.2f}%\")"
   ]
  },
  {
   "cell_type": "code",
   "execution_count": null,
   "id": "e6f527cd-e914-4d37-b862-a880f391bfc6",
   "metadata": {},
   "outputs": [],
   "source": []
  }
 ],
 "metadata": {
  "kernelspec": {
   "display_name": "Python 3 (ipykernel)",
   "language": "python",
   "name": "python3"
  },
  "language_info": {
   "codemirror_mode": {
    "name": "ipython",
    "version": 3
   },
   "file_extension": ".py",
   "mimetype": "text/x-python",
   "name": "python",
   "nbconvert_exporter": "python",
   "pygments_lexer": "ipython3",
   "version": "3.12.7"
  }
 },
 "nbformat": 4,
 "nbformat_minor": 5
}
